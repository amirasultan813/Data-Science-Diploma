{
 "cells": [
  {
   "cell_type": "markdown",
   "metadata": {
    "id": "rh2G6qlOV36a"
   },
   "source": [
    "<img src = 'Bank.png'>"
   ]
  },
  {
   "cell_type": "markdown",
   "metadata": {
    "id": "_bWILX82V36c"
   },
   "source": [
    "> ### The Central Bank contacted our technical team and asked it to develop a program suitable for all banks, with the addition of some advantages for certain banks"
   ]
  },
  {
   "cell_type": "markdown",
   "metadata": {
    "id": "vqxOn0l8V36d"
   },
   "source": [
    "# Task 1 : \n",
    "- #### task 1.1 Make Class(User) with attributes:\n",
    "    - name \n",
    "    - age \n",
    "    - gender \n",
    "    - balance\n",
    "- #### task 1.2 Make method to show previous data "
   ]
  },
  {
   "cell_type": "code",
   "execution_count": 1,
   "metadata": {
    "id": "NVzbvXicV36e"
   },
   "outputs": [],
   "source": [
    "class User:\n",
    "    \n",
    "    def __init__(self, name, age, gender, balance):\n",
    "        \n",
    "        self.name = name\n",
    "        self.age = age\n",
    "        self.gender = gender\n",
    "        self.balance = balance\n",
    "        \n",
    "        \n",
    "    def show(self):\n",
    "        \n",
    "        print(f'Hi {self.name} u are {self.gender} and having {self.age} years old with balance = {self.balance}')\n",
    "            "
   ]
  },
  {
   "cell_type": "code",
   "execution_count": 2,
   "metadata": {},
   "outputs": [
    {
     "name": "stdout",
     "output_type": "stream",
     "text": [
      "Hi Amira u are Female and having 22 years old with balance = 10000\n"
     ]
    }
   ],
   "source": [
    "u1 = User('Amira', 22, 'Female', 10000)\n",
    "u1.show()"
   ]
  },
  {
   "cell_type": "markdown",
   "metadata": {
    "id": "RNkANWLDV36f"
   },
   "source": [
    "# Task 2 : \n",
    "- Make Child Class(Bank) which inherite from Class(user) with Mehods:\n",
    "    - #### task 2.1 deposite : which take parameter(amount) and add it to balance and print new balance.  \n",
    "    - #### task 2.2 withdraw : which take parameter(amount) and check if user have enough money. \n",
    "    - #### task 2.3 view balance : to show current balance. \n"
   ]
  },
  {
   "cell_type": "code",
   "execution_count": 3,
   "metadata": {},
   "outputs": [],
   "source": [
    "class Bank(User):\n",
    "    \n",
    "    def __init__(self, name, age, gender, balance):\n",
    "        User.__init__(self,name, age, gender, balance)\n",
    "        \n",
    "    def deposite(self, amount):\n",
    "            \n",
    "        return (self.balance + amount) if(type(amount) is int) else 'Failed!, Please enter integer number'\n",
    "        \n",
    "        \n",
    "    def withdraw(self, amount):\n",
    "        \n",
    "        return (self.balance - amount) if self.balance >= amount else f'Failed!,current balance = {self.balance}'\n",
    "        \n",
    "        \n",
    "    def show_balance(self):\n",
    "        \n",
    "        return f'Your current balance = {self.balance}'"
   ]
  },
  {
   "cell_type": "code",
   "execution_count": 4,
   "metadata": {},
   "outputs": [
    {
     "name": "stdout",
     "output_type": "stream",
     "text": [
      "15000\n",
      "Failed!,current balance = 10000\n",
      "Your current balance = 10000\n"
     ]
    }
   ],
   "source": [
    "b1 = Bank('Amira', 22, 'Female', 10000)\n",
    "print(b1.deposite(5000))\n",
    "print(b1.withdraw(100000))\n",
    "print(b1.show_balance())"
   ]
  },
  {
   "cell_type": "markdown",
   "metadata": {
    "id": "Nd7I-lv3V36g"
   },
   "source": [
    "# Task 3 : \n",
    "- #### task 3.1 Make Child Class(CIB) which inherite from Class(Bank) with Mehods:\n",
    "    -   Loan application: which take parameter(amount) and  (Duration) >> max loan is one million\n",
    "- #### task 3.2 Make Child Class(QNB) which inherite from Class(Bank) with Mehods:\n",
    "    -   Loan application: which take parameter(amount) and  (Duration) >> max loan is one 2 million"
   ]
  },
  {
   "cell_type": "code",
   "execution_count": 5,
   "metadata": {},
   "outputs": [
    {
     "name": "stdout",
     "output_type": "stream",
     "text": [
      "Loan application approved, you get loan = 50000 for a duration of 10 months from CIB\n"
     ]
    }
   ],
   "source": [
    "class CIB(Bank):\n",
    "    \n",
    "    name_ = 'CIB'\n",
    "    \n",
    "    def __init__(self, name, age, gender, balance):\n",
    "        Bank.__init__(self,name, age, gender, balance)\n",
    "        \n",
    "    def loan_application(self, amount, duration):\n",
    "        \n",
    "        max_loan = 1000000\n",
    "        if amount > max_loan:\n",
    "            return f'Loan application refused!, As Maximum amount at {CIB.name} Bank is {max_loan}'\n",
    "        else:\n",
    "            return f'Loan application approved, you get loan = {amount} for a duration of {duration} months from {CIB.name_}'\n",
    "        \n",
    "\n",
    "cib = CIB('Sara', 22, 'Female', 23000)  \n",
    "print(cib.loan_application(50000,10))"
   ]
  },
  {
   "cell_type": "code",
   "execution_count": 6,
   "metadata": {},
   "outputs": [
    {
     "name": "stdout",
     "output_type": "stream",
     "text": [
      "Loan application refused!, As Maximum amount at QNB Bank is 2000000\n"
     ]
    }
   ],
   "source": [
    "class QNB(Bank):\n",
    "    \n",
    "    name_ = 'QNB'\n",
    "    \n",
    "    def __init__(self, name, age, gender, balance):\n",
    "        Bank.__init__(self,name, age, gender, balance)\n",
    "        \n",
    "    def loan_application(self, amount, duration):\n",
    "        \n",
    "        max_loan = 2000000\n",
    "        if amount > max_loan:\n",
    "            return (f'Loan application refused!, As Maximum amount at {QNB.name_} Bank is {max_loan}')\n",
    "        else:\n",
    "            return (f'Loan application approved,you get loan = {amount} for a duration of {duration} months from {QNB.name_}')\n",
    "        \n",
    "        \n",
    "qnb = QNB('amal', 23, 'Female', 150000)  \n",
    "print(qnb.loan_application(2100000,20))"
   ]
  },
  {
   "cell_type": "code",
   "execution_count": null,
   "metadata": {},
   "outputs": [],
   "source": []
  }
 ],
 "metadata": {
  "colab": {
   "provenance": []
  },
  "kernelspec": {
   "display_name": "Python 3 (ipykernel)",
   "language": "python",
   "name": "python3"
  },
  "language_info": {
   "codemirror_mode": {
    "name": "ipython",
    "version": 3
   },
   "file_extension": ".py",
   "mimetype": "text/x-python",
   "name": "python",
   "nbconvert_exporter": "python",
   "pygments_lexer": "ipython3",
   "version": "3.11.5"
  }
 },
 "nbformat": 4,
 "nbformat_minor": 1
}
