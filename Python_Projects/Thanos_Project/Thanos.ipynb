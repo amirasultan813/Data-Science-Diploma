{
 "cells": [
  {
   "cell_type": "markdown",
   "metadata": {},
   "source": [
    "<img src=\"thanos.jpg\">"
   ]
  },
  {
   "cell_type": "markdown",
   "metadata": {},
   "source": [
    "## Description\n",
    "> ##### We're creating an interactive Python program inspired by Thanos, the fictional character known for the infamous snap that wiped out half of the population. In our project, this \"population\" is represented by a set of 50 images.\n",
    "> ##### Here's how it works: the user will be asked to type \"Thanos\" (no matter the case) to trigger the snap, randomly removing half of the images. You can play this simulation multiple times, and we've added a cool feature – a backup function that lets you bring back the images and start the simulation again.\n",
    "> ##### We've divided the project into two milestones. For the first milestone, we need you to deliver a function that takes half of the population and \"kills\" them. In the second milestone, we want the complete system with all the interactive features, backup functionality, and a smooth exit option.\n",
    "> ##### Key Features:\n",
    "\n",
    "> ##### Simulates the Thanos snap on a set of 50 images.\n",
    "> ##### User-friendly prompts for interaction.\n",
    "> ##### Backup and restore functionality for repeated simulations.\n",
    "> ##### Seamless exit option to conclude the program.\n",
    "\n",
    "\n",
    "> ##### **Milestone 1 (Deliver by [08 / 12 / 2023]):**\n",
    "<font color=\"red\">For the first milestone, deliver a function that takes half of the population and \"kills\" them.</font>\n",
    "\n",
    "> ##### **Milestone 2 (Deliver by [15 / 12 / 2023]):**\n",
    "<font color=\"red\">In the second milestone, deliver the complete system with all interactive features, backup functionality, and a smooth exit option.</font>\n"
   ]
  },
  {
   "cell_type": "code",
   "execution_count": 40,
   "metadata": {},
   "outputs": [],
   "source": [
    "import random\n",
    "import os \n",
    "import time \n",
    "import shutil\n",
    "from tqdm import tqdm"
   ]
  },
  {
   "cell_type": "code",
   "execution_count": 22,
   "metadata": {},
   "outputs": [],
   "source": [
    "def Thanos(path):\n",
    "    \n",
    "    population = os.listdir(path)\n",
    "    \n",
    "    num_imgs = 1 if len(population) == 1 else len(population) // 2 \n",
    "    \n",
    "    kill = random.sample(population , k = num_imgs)\n",
    "    \n",
    "    for img in kill:\n",
    "        \n",
    "        img_path = os.path.join(path , img)\n",
    "        \n",
    "        os.remove(img_path)\n",
    "        \n",
    "        print(f'{img} was killed'.title())\n",
    "        time.sleep(1)\n",
    "        "
   ]
  },
  {
   "cell_type": "code",
   "execution_count": 23,
   "metadata": {},
   "outputs": [],
   "source": [
    "path = 'universe/'"
   ]
  },
  {
   "cell_type": "code",
   "execution_count": 34,
   "metadata": {},
   "outputs": [
    {
     "name": "stdout",
     "output_type": "stream",
     "text": [
      "Cover042.Png Was Killed\n",
      "Cover035.Png Was Killed\n",
      "Cover017.Png Was Killed\n",
      "Cover012.Png Was Killed\n",
      "Cover047.Png Was Killed\n",
      "Cover005.Png Was Killed\n",
      "Cover050.Png Was Killed\n",
      "Cover037.Png Was Killed\n",
      "Cover039.Png Was Killed\n",
      "Cover018.Png Was Killed\n",
      "Cover038.Png Was Killed\n",
      "Cover040.Png Was Killed\n",
      "Cover043.Png Was Killed\n",
      "Cover049.Png Was Killed\n",
      "Cover004.Png Was Killed\n",
      "Cover019.Png Was Killed\n",
      "Cover023.Png Was Killed\n",
      "Cover032.Png Was Killed\n",
      "Cover008.Png Was Killed\n",
      "Cover026.Png Was Killed\n",
      "Cover036.Png Was Killed\n",
      "Cover011.Png Was Killed\n",
      "Cover007.Png Was Killed\n",
      "Cover006.Png Was Killed\n",
      "Cover031.Png Was Killed\n"
     ]
    }
   ],
   "source": [
    "Thanos(path)"
   ]
  },
  {
   "cell_type": "code",
   "execution_count": 41,
   "metadata": {},
   "outputs": [],
   "source": [
    "def Backup(source , destination):\n",
    "    \n",
    "    population = os.listdir(source)\n",
    "    \n",
    "    for img in tqdm(population):\n",
    "    \n",
    "        source_path = os.path.join(source , img)\n",
    "        destination_path = os.path.join(destination , img)\n",
    "        \n",
    "        shutil.copy(source_path , destination_path)\n",
    "        \n",
    "#         print(f'{img} was restored !!'.title())\n",
    "        time.sleep(1)\n",
    "        \n",
    "    \n",
    "    \n",
    "    "
   ]
  },
  {
   "cell_type": "code",
   "execution_count": 33,
   "metadata": {},
   "outputs": [
    {
     "name": "stdout",
     "output_type": "stream",
     "text": [
      "Cover001.Png Was Restored !!\n",
      "Cover002.Png Was Restored !!\n",
      "Cover003.Png Was Restored !!\n",
      "Cover004.Png Was Restored !!\n",
      "Cover005.Png Was Restored !!\n",
      "Cover006.Png Was Restored !!\n",
      "Cover007.Png Was Restored !!\n",
      "Cover008.Png Was Restored !!\n",
      "Cover009.Png Was Restored !!\n",
      "Cover010.Png Was Restored !!\n",
      "Cover011.Png Was Restored !!\n",
      "Cover012.Png Was Restored !!\n",
      "Cover013.Png Was Restored !!\n",
      "Cover014.Png Was Restored !!\n",
      "Cover015.Png Was Restored !!\n",
      "Cover016.Png Was Restored !!\n",
      "Cover017.Png Was Restored !!\n",
      "Cover018.Png Was Restored !!\n",
      "Cover019.Png Was Restored !!\n",
      "Cover020.Png Was Restored !!\n",
      "Cover021.Png Was Restored !!\n",
      "Cover022.Png Was Restored !!\n",
      "Cover023.Png Was Restored !!\n",
      "Cover024.Png Was Restored !!\n",
      "Cover025.Png Was Restored !!\n",
      "Cover026.Png Was Restored !!\n",
      "Cover027.Png Was Restored !!\n",
      "Cover028.Png Was Restored !!\n",
      "Cover029.Png Was Restored !!\n",
      "Cover030.Png Was Restored !!\n",
      "Cover031.Png Was Restored !!\n",
      "Cover032.Png Was Restored !!\n",
      "Cover033.Png Was Restored !!\n",
      "Cover034.Png Was Restored !!\n",
      "Cover035.Png Was Restored !!\n",
      "Cover036.Png Was Restored !!\n",
      "Cover037.Png Was Restored !!\n",
      "Cover038.Png Was Restored !!\n",
      "Cover039.Png Was Restored !!\n",
      "Cover040.Png Was Restored !!\n",
      "Cover041.Png Was Restored !!\n",
      "Cover042.Png Was Restored !!\n",
      "Cover043.Png Was Restored !!\n",
      "Cover044.Png Was Restored !!\n",
      "Cover045.Png Was Restored !!\n",
      "Cover046.Png Was Restored !!\n",
      "Cover047.Png Was Restored !!\n",
      "Cover048.Png Was Restored !!\n",
      "Cover049.Png Was Restored !!\n",
      "Cover050.Png Was Restored !!\n"
     ]
    }
   ],
   "source": [
    "Backup('backup/' , path)"
   ]
  },
  {
   "cell_type": "markdown",
   "metadata": {},
   "source": [
    "### System"
   ]
  },
  {
   "cell_type": "code",
   "execution_count": 43,
   "metadata": {},
   "outputs": [
    {
     "name": "stdout",
     "output_type": "stream",
     "text": [
      "enter [thanos] to kill\n",
      "enter [exit] to exit\n",
      "thanos\n",
      "Opps There Are No People To Kill !!\n"
     ]
    },
    {
     "name": "stderr",
     "output_type": "stream",
     "text": [
      "100%|██████████████████████████████████████████████████████████████████████████████████| 50/50 [00:50<00:00,  1.01s/it]\n"
     ]
    },
    {
     "name": "stdout",
     "output_type": "stream",
     "text": [
      "enter [thanos] to kill\n",
      "enter [exit] to exit\n",
      "thanos\n",
      "Cover037.Png Was Killed\n",
      "Cover010.Png Was Killed\n",
      "Cover041.Png Was Killed\n",
      "Cover044.Png Was Killed\n",
      "Cover011.Png Was Killed\n",
      "Cover048.Png Was Killed\n",
      "Cover023.Png Was Killed\n",
      "Cover002.Png Was Killed\n",
      "Cover034.Png Was Killed\n",
      "Cover027.Png Was Killed\n",
      "Cover005.Png Was Killed\n",
      "Cover014.Png Was Killed\n",
      "Cover040.Png Was Killed\n",
      "Cover028.Png Was Killed\n",
      "Cover004.Png Was Killed\n",
      "Cover046.Png Was Killed\n",
      "Cover019.Png Was Killed\n",
      "Cover018.Png Was Killed\n",
      "Cover016.Png Was Killed\n",
      "Cover033.Png Was Killed\n",
      "Cover017.Png Was Killed\n",
      "Cover012.Png Was Killed\n",
      "Cover025.Png Was Killed\n",
      "Cover003.Png Was Killed\n",
      "Cover035.Png Was Killed\n",
      "enter [thanos] to kill\n",
      "enter [exit] to exit\n",
      "exit\n"
     ]
    }
   ],
   "source": [
    "while True :\n",
    "    \n",
    "    destination = 'universe/'\n",
    "    source = 'backup/'\n",
    "    \n",
    "    \n",
    "    choice = input('enter [thanos] to kill\\nenter [exit] to exit\\n').lower()\n",
    "    \n",
    "    if choice in ['thanos' , 'exit']:\n",
    "        \n",
    "        \n",
    "        if choice == 'thanos':\n",
    "            \n",
    "            \n",
    "            if len(os.listdir(destination)) > 0:\n",
    "                Thanos(destination)\n",
    "            \n",
    "            else :\n",
    "                print('Opps there are no people to kill !!'.title())\n",
    "                Backup(source , destination)\n",
    "        \n",
    "        else :\n",
    "            break\n",
    "    \n",
    "#     -------------------------------------------------------------------\n",
    "    else :\n",
    "        print('Invalid choice !!'.title())\n",
    "    "
   ]
  },
  {
   "cell_type": "code",
   "execution_count": null,
   "metadata": {},
   "outputs": [],
   "source": []
  }
 ],
 "metadata": {
  "kernelspec": {
   "display_name": "Python 3 (ipykernel)",
   "language": "python",
   "name": "python3"
  },
  "language_info": {
   "codemirror_mode": {
    "name": "ipython",
    "version": 3
   },
   "file_extension": ".py",
   "mimetype": "text/x-python",
   "name": "python",
   "nbconvert_exporter": "python",
   "pygments_lexer": "ipython3",
   "version": "3.11.5"
  }
 },
 "nbformat": 4,
 "nbformat_minor": 2
}
