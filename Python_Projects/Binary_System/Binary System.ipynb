{
 "cells": [
  {
   "cell_type": "markdown",
   "id": "cb233cd7",
   "metadata": {
    "id": "cb233cd7"
   },
   "source": [
    "## Project Description:\n",
    "\n",
    "* Create a system using object-oriented programming (OOP) concepts where students will design three classes:\n",
    "\n",
    "#### DisplayClass:\n",
    "\n",
    "* Contains a method to display the result of the conversion (binary to decimal or vice versa).\n",
    "* Includes another method to save the result into a CSV file.\n",
    "* The CSV file should have two columns: one for binary numbers and the other for decimal numbers.\n",
    "#### BinaryToDecimalConverter:\n",
    "\n",
    "* A class responsible for converting binary numbers to decimal.\n",
    "* Utilizes appropriate methods to perform the conversion.\n",
    "#### DecimalToBinaryConverter:\n",
    "\n",
    "* A class dedicated to converting decimal numbers to binary.\n",
    "* Implements the necessary methods for the conversion process.\n",
    "<br><br>\n",
    "* The overall goal is to create a cohesive system where users can input binary numbers, perform conversions (binary to decimal or decimal to binary), display the results, and save the outcomes in a CSV file.\n",
    "\n",
    "* Ensure that the classes are well-encapsulated, follow OOP principles, and facilitate easy extension for potential future functionalities."
   ]
  },
  {
   "cell_type": "markdown",
   "id": "c6d4dee3",
   "metadata": {
    "id": "c6d4dee3"
   },
   "source": [
    "## Binary to Decimal Class"
   ]
  },
  {
   "cell_type": "code",
   "execution_count": 1,
   "id": "8d9f4870",
   "metadata": {
    "id": "e5080914"
   },
   "outputs": [],
   "source": [
    "class Binary_to_Decimal:\n",
    "    \n",
    "    def __init__(self, binary_num):\n",
    "        \n",
    "        self.binary_num = binary_num\n",
    "        \n",
    "    def convertion(self):\n",
    "        \n",
    "        decimal =0\n",
    "        temp = self.binary_num[::-1] if (self.binary_num.count('0') + self.binary_num.count('1')) == len(self.binary_num) else 'Not Binary'\n",
    "        \n",
    "        for num in range(len(temp)):\n",
    "            decimal += int(temp[num]) * (2 ** num)\n",
    "        return decimal"
   ]
  },
  {
   "cell_type": "markdown",
   "id": "c3603736",
   "metadata": {
    "id": "8391a4c6"
   },
   "source": [
    "## Decimal to Binary Class"
   ]
  },
  {
   "cell_type": "code",
   "execution_count": 2,
   "id": "cbc46f9b",
   "metadata": {},
   "outputs": [],
   "source": [
    "class Decimal_to_Binary:\n",
    "    \n",
    "    def __init__(self, decimal_num):\n",
    "        \n",
    "        self.decimal_num = decimal_num\n",
    "        \n",
    "    def convertion(self):\n",
    "        \n",
    "        try:\n",
    "            \n",
    "            self.decimal_num = int(self.decimal_num)\n",
    "            \n",
    "            if self.decimal_num >= 0:\n",
    "                return bin(self.decimal_num)[2:]\n",
    "            else:\n",
    "                return 'Invalid decimal number'\n",
    "            \n",
    "        except ValueError:\n",
    "            return 'Invalid decimal number: not a valid integer'\n"
   ]
  },
  {
   "cell_type": "code",
   "execution_count": 3,
   "id": "a4a50986",
   "metadata": {},
   "outputs": [],
   "source": [
    "class Starting:\n",
    "    \n",
    "    def __init__(self, num, conversion_type):\n",
    "        \n",
    "        self.num = num\n",
    "        self.conversion_type = conversion_type\n",
    "        self.conversions = []\n",
    "\n",
    "    def conversion(self):\n",
    "        \n",
    "        if conversion_type.lower() == 'decimal_to_binary':\n",
    "            \n",
    "            db = Decimal_to_Binary(num)\n",
    "            binary = db.convertion()\n",
    "            self.conversions.append((num, binary))\n",
    "            return self.conversions \n",
    "        \n",
    "        elif conversion_type.lower() == 'binary_to_decimal':\n",
    "            \n",
    "            bd = Binary_to_Decimal(num)\n",
    "            decimal = bd.convertion()\n",
    "            self.conversions.append((num, decimal))\n",
    "            return self.conversions \n",
    "      \n",
    "        else:\n",
    "            print('Invalid Process!')\n",
    "        "
   ]
  },
  {
   "cell_type": "code",
   "execution_count": 4,
   "id": "ee352e29",
   "metadata": {},
   "outputs": [],
   "source": [
    "class Display:\n",
    "    \n",
    "    def __init__(self, ans):\n",
    "        \n",
    "        self.ans = ans\n",
    "    \n",
    "    def display(self):\n",
    "        \n",
    "        for num, result in self.ans:\n",
    "            print(f'Original Number : {num}, Result: {result}')\n",
    "\n",
    "    def save_to_csv(self, filename):\n",
    "        \n",
    "        with open(filename, mode='a', newline='') as file:\n",
    "            writer = csv.writer(file)\n",
    "\n",
    "            if file.tell() == 0:\n",
    "                writer.writerow(['Decimal', 'Binary'])\n",
    "\n",
    "            writer.writerows(self.ans)\n",
    "\n",
    "        print(f'Results saved to {filename}')"
   ]
  },
  {
   "cell_type": "code",
   "execution_count": 5,
   "id": "d7849a37",
   "metadata": {},
   "outputs": [
    {
     "name": "stdout",
     "output_type": "stream",
     "text": [
      "Enter number here : 1111\n",
      "Enter >> (decimal_to_binary) or (binary_to_decimal) :binary_to_decimal\n",
      "Original Number : 1111, Result: 15\n",
      "Results saved to saved_data_conversion\n"
     ]
    }
   ],
   "source": [
    "import csv\n",
    "\n",
    "num = input('Enter number here : ')\n",
    "conversion_type = input('Enter >> (decimal_to_binary) or (binary_to_decimal) :')\n",
    "start = Starting(num , conversion_type)\n",
    "ans = start.conversion()\n",
    "d = Display(ans)\n",
    "d.display()\n",
    "d.save_to_csv('saved_data_conversion')"
   ]
  },
  {
   "cell_type": "code",
   "execution_count": 6,
   "id": "c0d57f67",
   "metadata": {},
   "outputs": [
    {
     "name": "stdout",
     "output_type": "stream",
     "text": [
      "Enter number here : 15\n",
      "Enter >> (decimal_to_binary) or (binary_to_decimal) :decimal_to_binary\n",
      "Original Number : 15, Result: 1111\n",
      "Results saved to saved_data_conversion\n"
     ]
    }
   ],
   "source": [
    "num = input('Enter number here : ')\n",
    "conversion_type = input('Enter >> (decimal_to_binary) or (binary_to_decimal) :')\n",
    "start2 = Starting(num , conversion_type)\n",
    "ans = start2.conversion()\n",
    "d2 = Display(ans)\n",
    "d2.display()\n",
    "d2.save_to_csv('saved_data_conversion')"
   ]
  },
  {
   "cell_type": "code",
   "execution_count": null,
   "id": "9417951f",
   "metadata": {},
   "outputs": [],
   "source": []
  }
 ],
 "metadata": {
  "colab": {
   "provenance": []
  },
  "kernelspec": {
   "display_name": "Python 3 (ipykernel)",
   "language": "python",
   "name": "python3"
  },
  "language_info": {
   "codemirror_mode": {
    "name": "ipython",
    "version": 3
   },
   "file_extension": ".py",
   "mimetype": "text/x-python",
   "name": "python",
   "nbconvert_exporter": "python",
   "pygments_lexer": "ipython3",
   "version": "3.11.5"
  }
 },
 "nbformat": 4,
 "nbformat_minor": 5
}
